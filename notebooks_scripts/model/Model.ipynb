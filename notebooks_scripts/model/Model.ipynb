{
 "cells": [
  {
   "attachments": {},
   "cell_type": "markdown",
   "metadata": {},
   "source": [
    "# Wine Quality Prediction Model"
   ]
  },
  {
   "cell_type": "code",
   "execution_count": 15,
   "metadata": {},
   "outputs": [],
   "source": [
    "import pandas as pd\n",
    "import seaborn as sns\n",
    "import matplotlib.pyplot as plt\n",
    "import numpy as np\n",
    "import sys\n",
    "import warnings\n",
    "warnings.filterwarnings(\"ignore\")\n",
    "sys.path.append('../scripts')\n",
    "\n",
    "from data_load import data_reading\n",
    "from data_load import feature_generation"
   ]
  },
  {
   "cell_type": "code",
   "execution_count": 16,
   "metadata": {},
   "outputs": [],
   "source": [
    "train_df, test_df = data_reading()"
   ]
  },
  {
   "cell_type": "code",
   "execution_count": 17,
   "metadata": {},
   "outputs": [],
   "source": [
    "train_df = feature_generation(train_df)\n",
    "test_df = feature_generation(test_df)"
   ]
  },
  {
   "cell_type": "code",
   "execution_count": 18,
   "metadata": {},
   "outputs": [
    {
     "name": "stdout",
     "output_type": "stream",
     "text": [
      "dropped missing values in train_df.\n",
      "dropped missing values in test_df.\n"
     ]
    }
   ],
   "source": [
    "if train_df.isna().any().any():\n",
    "    print('dropped missing values in train_df.')\n",
    "    train_df = train_df.dropna()\n",
    "if test_df.isna().any().any():\n",
    "    print('dropped missing values in test_df.')\n",
    "    test_df = test_df.dropna()"
   ]
  },
  {
   "cell_type": "code",
   "execution_count": 19,
   "metadata": {},
   "outputs": [],
   "source": [
    "X = train_df.drop('quality', axis = 1)\n",
    "y = train_df['quality']"
   ]
  },
  {
   "cell_type": "code",
   "execution_count": 20,
   "metadata": {},
   "outputs": [],
   "source": [
    "from sklearn.preprocessing import LabelEncoder\n",
    "\n",
    "label_encoder = LabelEncoder()\n",
    "y_encoded = label_encoder.fit_transform(y)"
   ]
  },
  {
   "cell_type": "code",
   "execution_count": 21,
   "metadata": {},
   "outputs": [],
   "source": [
    "from sklearn.model_selection import train_test_split\n",
    "X_train, X_test, y_train, y_test = train_test_split(X, y_encoded, test_size=0.2, random_state=2019, stratify = y_encoded)"
   ]
  },
  {
   "cell_type": "code",
   "execution_count": 22,
   "metadata": {},
   "outputs": [],
   "source": [
    "from sklearn.linear_model import LogisticRegression\n",
    "from sklearn.neighbors import KNeighborsClassifier\n",
    "from sklearn.ensemble import RandomForestClassifier\n",
    "from sklearn.metrics import accuracy_score, cohen_kappa_score, make_scorer\n",
    "from sklearn.model_selection import GridSearchCV\n",
    "\n",
    "import xgboost as xgb"
   ]
  },
  {
   "attachments": {},
   "cell_type": "markdown",
   "metadata": {},
   "source": [
    "## Model 1: Logistic Regression"
   ]
  },
  {
   "cell_type": "code",
   "execution_count": 23,
   "metadata": {},
   "outputs": [],
   "source": [
    "model = LogisticRegression()\n",
    "model.fit(X_train, y_train)\n",
    "y_tr_pred = model.predict(X_train)\n",
    "y_te_pred = model.predict(X_test)"
   ]
  },
  {
   "cell_type": "code",
   "execution_count": 24,
   "metadata": {},
   "outputs": [
    {
     "name": "stdout",
     "output_type": "stream",
     "text": [
      "LogisticRegression Accuracy - Train: 0.58, Test: 0.55\n",
      "LogisticRegression QWK - Train: 0.46, Test: 0.41\n"
     ]
    }
   ],
   "source": [
    "train_acc = accuracy_score(y_train, y_tr_pred)\n",
    "test_acc = accuracy_score(y_test, y_te_pred)\n",
    "print(f'LogisticRegression Accuracy - Train: {train_acc:#.2f}, Test: {test_acc:#.2f}')\n",
    "\n",
    "train_qwk = cohen_kappa_score(y_train, y_tr_pred, weights='quadratic')\n",
    "test_qwk = cohen_kappa_score(y_test, y_te_pred, weights='quadratic')\n",
    "print(f'LogisticRegression QWK - Train: {train_qwk:#.2f}, Test: {test_qwk:#.2f}')"
   ]
  },
  {
   "attachments": {},
   "cell_type": "markdown",
   "metadata": {},
   "source": [
    "## Model 2: KNN"
   ]
  },
  {
   "cell_type": "code",
   "execution_count": 25,
   "metadata": {},
   "outputs": [],
   "source": [
    "# Creating a scorer that maximizes Quadratic Weighted Kappa (QWK)\n",
    "def quadratic_weighted_kappa(y_true, y_pred):\n",
    "    return cohen_kappa_score(y_true, y_pred, weights='quadratic')\n",
    "\n",
    "qwk_scorer = make_scorer(quadratic_weighted_kappa)"
   ]
  },
  {
   "cell_type": "code",
   "execution_count": 26,
   "metadata": {},
   "outputs": [
    {
     "name": "stdout",
     "output_type": "stream",
     "text": [
      "{'n_neighbors': 9}\n",
      "0.26152574974887133\n"
     ]
    }
   ],
   "source": [
    "params = {'n_neighbors': range(1,13,2)}\n",
    "model = GridSearchCV(estimator = KNeighborsClassifier(), \n",
    "                     param_grid = params,\n",
    "                     cv = 5,\n",
    "                     scoring=qwk_scorer)\n",
    "\n",
    "model.fit(X_train, y_train)\n",
    "best_model = model.best_estimator_\n",
    "print(model.best_params_)\n",
    "print(model.best_score_)\n",
    "\n",
    "y_tr_pred = best_model.predict(X_train)\n",
    "y_te_pred = best_model.predict(X_test)"
   ]
  },
  {
   "cell_type": "code",
   "execution_count": 27,
   "metadata": {},
   "outputs": [
    {
     "name": "stdout",
     "output_type": "stream",
     "text": [
      "KNeighborsClassifier Accuracy - Train: 0.59, Test: 0.49\n",
      "KNeighborsClassifier QWK - Train: 0.35, Test: 0.20\n"
     ]
    }
   ],
   "source": [
    "train_acc = accuracy_score(y_train, y_tr_pred)\n",
    "test_acc = accuracy_score(y_test, y_te_pred)\n",
    "print(f'KNeighborsClassifier Accuracy - Train: {train_acc:#.2f}, Test: {test_acc:#.2f}')\n",
    "\n",
    "train_qwk = cohen_kappa_score(y_train, y_tr_pred, weights='quadratic')\n",
    "test_qwk = cohen_kappa_score(y_test, y_te_pred, weights='quadratic')\n",
    "print(f'KNeighborsClassifier QWK - Train: {train_qwk:#.2f}, Test: {test_qwk:#.2f}')"
   ]
  },
  {
   "attachments": {},
   "cell_type": "markdown",
   "metadata": {},
   "source": [
    "## Model 3: Random Forest"
   ]
  },
  {
   "cell_type": "code",
   "execution_count": 28,
   "metadata": {},
   "outputs": [
    {
     "name": "stdout",
     "output_type": "stream",
     "text": [
      "Fitting 5 folds for each of 64 candidates, totalling 320 fits\n",
      "{'bootstrap': True, 'max_depth': 10, 'max_features': 'sqrt', 'min_samples_leaf': 2, 'min_samples_split': 2, 'n_estimators': 200}\n",
      "0.4907716429914262\n"
     ]
    }
   ],
   "source": [
    "# Best parameters after first run\n",
    "# {'bootstrap': True, 'max_depth': 10, 'max_features': 'sqrt', 'min_samples_leaf': 2, 'min_samples_split': 2, 'n_estimators': 200}\n",
    "params = {'n_estimators': [100, 200], \n",
    "          'max_depth': [5, 10], \n",
    "          'min_samples_split': [2, 5], \n",
    "          'min_samples_leaf': [1, 2], \n",
    "          'max_features': ['sqrt', 'log2'],\n",
    "          'bootstrap': [True, False]}\n",
    "\n",
    "model = GridSearchCV(estimator = RandomForestClassifier(), \n",
    "                     param_grid = params,\n",
    "                     cv = 5, \n",
    "                     verbose = True,\n",
    "                     scoring=qwk_scorer)\n",
    "                     \n",
    "model.fit(X_train, y_train)\n",
    "best_model = model.best_estimator_\n",
    "print(model.best_params_)\n",
    "print(model.best_score_)\n",
    "\n",
    "y_tr_pred = best_model.predict(X_train)\n",
    "y_te_pred = best_model.predict(X_test)"
   ]
  },
  {
   "cell_type": "code",
   "execution_count": 29,
   "metadata": {},
   "outputs": [
    {
     "name": "stdout",
     "output_type": "stream",
     "text": [
      "RandomForestClassifier Accuracy - Train: 0.91, Test: 0.58\n",
      "RandomForestClassifier QWK - Train: 0.86, Test: 0.47\n"
     ]
    }
   ],
   "source": [
    "train_acc = accuracy_score(y_train, y_tr_pred)\n",
    "test_acc = accuracy_score(y_test, y_te_pred)\n",
    "print(f'RandomForestClassifier Accuracy - Train: {train_acc:#.2f}, Test: {test_acc:#.2f}')\n",
    "\n",
    "train_qwk = cohen_kappa_score(y_train, y_tr_pred, weights='quadratic')\n",
    "test_qwk = cohen_kappa_score(y_test, y_te_pred, weights='quadratic')\n",
    "print(f'RandomForestClassifier QWK - Train: {train_qwk:#.2f}, Test: {test_qwk:#.2f}')"
   ]
  },
  {
   "attachments": {},
   "cell_type": "markdown",
   "metadata": {},
   "source": [
    "## Model 4: XGBoost"
   ]
  },
  {
   "cell_type": "code",
   "execution_count": 30,
   "metadata": {},
   "outputs": [
    {
     "name": "stdout",
     "output_type": "stream",
     "text": [
      "Fitting 5 folds for each of 128 candidates, totalling 640 fits\n",
      "{'colsample_bytree': 0.8, 'learning_rate': 0.1, 'max_depth': 5, 'n_estimators': 100, 'reg_alpha': 0, 'reg_lambda': 0, 'subsample': 0.8}\n"
     ]
    }
   ],
   "source": [
    "params = {'n_estimators': [100, 200], \n",
    "          'max_depth': [5, 10], \n",
    "          'learning_rate': [0.1, 0.01],\n",
    "          'subsample': [0.8, 0.9],\n",
    "          'colsample_bytree': [0.8, 0.9],\n",
    "          'reg_alpha': [0, 0.1],\n",
    "          'reg_lambda': [0, 0.1]}\n",
    "\n",
    "model = GridSearchCV(estimator=xgb.XGBClassifier(objective='multi:softmax'), \n",
    "                     param_grid=params, \n",
    "                     cv=5, \n",
    "                     scoring=qwk_scorer, \n",
    "                     verbose=True)\n",
    "\n",
    "model.fit(X_train, y_train)\n",
    "best_model = model.best_estimator_\n",
    "print(model.best_params_)\n",
    "\n",
    "y_tr_pred = best_model.predict(X_train)\n",
    "y_te_pred = best_model.predict(X_test)"
   ]
  },
  {
   "cell_type": "code",
   "execution_count": 31,
   "metadata": {},
   "outputs": [
    {
     "name": "stdout",
     "output_type": "stream",
     "text": [
      "XGBClassifier Accuracy - Train: 1.00, Test: 0.57\n",
      "XGBClassifier QWK - Train: 1.00, Test: 0.47\n"
     ]
    }
   ],
   "source": [
    "train_acc = accuracy_score(y_train, y_tr_pred)\n",
    "test_acc = accuracy_score(y_test, y_te_pred)\n",
    "print(f'XGBClassifier Accuracy - Train: {train_acc:#.2f}, Test: {test_acc:#.2f}')\n",
    "\n",
    "train_qwk = cohen_kappa_score(y_train, y_tr_pred, weights='quadratic')\n",
    "test_qwk = cohen_kappa_score(y_test, y_te_pred, weights='quadratic')\n",
    "print(f'XGBClassifier QWK - Train: {train_qwk:#.2f}, Test: {test_qwk:#.2f}')"
   ]
  }
 ],
 "metadata": {
  "kernelspec": {
   "display_name": "Python 3",
   "language": "python",
   "name": "python3"
  },
  "language_info": {
   "codemirror_mode": {
    "name": "ipython",
    "version": 3
   },
   "file_extension": ".py",
   "mimetype": "text/x-python",
   "name": "python",
   "nbconvert_exporter": "python",
   "pygments_lexer": "ipython3",
   "version": "3.10.5"
  },
  "orig_nbformat": 4
 },
 "nbformat": 4,
 "nbformat_minor": 2
}
