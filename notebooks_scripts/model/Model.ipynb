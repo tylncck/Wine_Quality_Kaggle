{
 "cells": [
  {
   "attachments": {},
   "cell_type": "markdown",
   "metadata": {},
   "source": [
    "# Wine Quality Prediction Model"
   ]
  },
  {
   "cell_type": "code",
   "execution_count": 52,
   "metadata": {},
   "outputs": [],
   "source": [
    "import pandas as pd\n",
    "import seaborn as sns\n",
    "import matplotlib.pyplot as plt\n",
    "import numpy as np\n",
    "import sys\n",
    "import warnings\n",
    "warnings.filterwarnings(\"ignore\")\n",
    "sys.path.append('../scripts')\n",
    "\n",
    "from data_load import data_reading\n",
    "from data_load import feature_generation"
   ]
  },
  {
   "cell_type": "code",
   "execution_count": 53,
   "metadata": {},
   "outputs": [],
   "source": [
    "train_df, test_df = data_reading()"
   ]
  },
  {
   "cell_type": "code",
   "execution_count": 54,
   "metadata": {},
   "outputs": [],
   "source": [
    "train_df = feature_generation(train_df)\n",
    "test_df = feature_generation(test_df)"
   ]
  },
  {
   "cell_type": "code",
   "execution_count": 55,
   "metadata": {},
   "outputs": [
    {
     "name": "stdout",
     "output_type": "stream",
     "text": [
      "dropped missing values in train_df.\n"
     ]
    }
   ],
   "source": [
    "if train_df.isna().any().any():\n",
    "    print('dropped missing values in train_df.')\n",
    "    train_df = train_df.dropna()"
   ]
  },
  {
   "cell_type": "code",
   "execution_count": 56,
   "metadata": {},
   "outputs": [],
   "source": [
    "X = train_df.drop('quality', axis = 1)\n",
    "y = train_df['quality']"
   ]
  },
  {
   "cell_type": "code",
   "execution_count": 57,
   "metadata": {},
   "outputs": [],
   "source": [
    "from sklearn.preprocessing import LabelEncoder\n",
    "\n",
    "label_encoder = LabelEncoder()\n",
    "y_encoded = label_encoder.fit_transform(y)"
   ]
  },
  {
   "cell_type": "code",
   "execution_count": 58,
   "metadata": {},
   "outputs": [],
   "source": [
    "from sklearn.model_selection import train_test_split\n",
    "X_train, X_test, y_train, y_test = train_test_split(X, y_encoded, test_size=0.2, random_state=2019, stratify = y_encoded)"
   ]
  },
  {
   "cell_type": "code",
   "execution_count": 59,
   "metadata": {},
   "outputs": [],
   "source": [
    "from sklearn.linear_model import LogisticRegression\n",
    "from sklearn.neighbors import KNeighborsClassifier\n",
    "from sklearn.ensemble import RandomForestClassifier\n",
    "from sklearn.metrics import accuracy_score, cohen_kappa_score, make_scorer\n",
    "from sklearn.model_selection import GridSearchCV, StratifiedKFold\n",
    "import xgboost as xgb"
   ]
  },
  {
   "attachments": {},
   "cell_type": "markdown",
   "metadata": {},
   "source": [
    "## Model 1: Logistic Regression"
   ]
  },
  {
   "cell_type": "code",
   "execution_count": 23,
   "metadata": {},
   "outputs": [],
   "source": [
    "model = LogisticRegression()\n",
    "model.fit(X_train, y_train)\n",
    "y_tr_pred = model.predict(X_train)\n",
    "y_te_pred = model.predict(X_test)"
   ]
  },
  {
   "cell_type": "code",
   "execution_count": 24,
   "metadata": {},
   "outputs": [
    {
     "name": "stdout",
     "output_type": "stream",
     "text": [
      "LogisticRegression Accuracy - Train: 0.58, Test: 0.55\n",
      "LogisticRegression QWK - Train: 0.46, Test: 0.41\n"
     ]
    }
   ],
   "source": [
    "train_acc = accuracy_score(y_train, y_tr_pred)\n",
    "test_acc = accuracy_score(y_test, y_te_pred)\n",
    "print(f'LogisticRegression Accuracy - Train: {train_acc:#.2f}, Test: {test_acc:#.2f}')\n",
    "\n",
    "train_qwk = cohen_kappa_score(y_train, y_tr_pred, weights='quadratic')\n",
    "test_qwk = cohen_kappa_score(y_test, y_te_pred, weights='quadratic')\n",
    "print(f'LogisticRegression QWK - Train: {train_qwk:#.2f}, Test: {test_qwk:#.2f}')"
   ]
  },
  {
   "attachments": {},
   "cell_type": "markdown",
   "metadata": {},
   "source": [
    "## Model 2: KNN"
   ]
  },
  {
   "cell_type": "code",
   "execution_count": 9,
   "metadata": {},
   "outputs": [],
   "source": [
    "# Creating a scorer that maximizes Quadratic Weighted Kappa (QWK)\n",
    "def quadratic_weighted_kappa(y_true, y_pred):\n",
    "    return cohen_kappa_score(y_true, y_pred, weights='quadratic')\n",
    "\n",
    "qwk_scorer = make_scorer(quadratic_weighted_kappa)"
   ]
  },
  {
   "cell_type": "code",
   "execution_count": 26,
   "metadata": {},
   "outputs": [
    {
     "name": "stdout",
     "output_type": "stream",
     "text": [
      "{'n_neighbors': 9}\n",
      "0.26152574974887133\n"
     ]
    }
   ],
   "source": [
    "params = {'n_neighbors': range(1,13,2)}\n",
    "model = GridSearchCV(estimator = KNeighborsClassifier(), \n",
    "                     param_grid = params,\n",
    "                     cv = 5,\n",
    "                     scoring=qwk_scorer)\n",
    "\n",
    "model.fit(X_train, y_train)\n",
    "best_model = model.best_estimator_\n",
    "print(model.best_params_)\n",
    "print(model.best_score_)\n",
    "\n",
    "y_tr_pred = best_model.predict(X_train)\n",
    "y_te_pred = best_model.predict(X_test)"
   ]
  },
  {
   "cell_type": "code",
   "execution_count": 27,
   "metadata": {},
   "outputs": [
    {
     "name": "stdout",
     "output_type": "stream",
     "text": [
      "KNeighborsClassifier Accuracy - Train: 0.59, Test: 0.49\n",
      "KNeighborsClassifier QWK - Train: 0.35, Test: 0.20\n"
     ]
    }
   ],
   "source": [
    "train_acc = accuracy_score(y_train, y_tr_pred)\n",
    "test_acc = accuracy_score(y_test, y_te_pred)\n",
    "print(f'KNeighborsClassifier Accuracy - Train: {train_acc:#.2f}, Test: {test_acc:#.2f}')\n",
    "\n",
    "train_qwk = cohen_kappa_score(y_train, y_tr_pred, weights='quadratic')\n",
    "test_qwk = cohen_kappa_score(y_test, y_te_pred, weights='quadratic')\n",
    "print(f'KNeighborsClassifier QWK - Train: {train_qwk:#.2f}, Test: {test_qwk:#.2f}')"
   ]
  },
  {
   "attachments": {},
   "cell_type": "markdown",
   "metadata": {},
   "source": [
    "## Model 3: Random Forest"
   ]
  },
  {
   "cell_type": "code",
   "execution_count": 28,
   "metadata": {},
   "outputs": [
    {
     "name": "stdout",
     "output_type": "stream",
     "text": [
      "Fitting 5 folds for each of 64 candidates, totalling 320 fits\n",
      "{'bootstrap': True, 'max_depth': 10, 'max_features': 'sqrt', 'min_samples_leaf': 2, 'min_samples_split': 2, 'n_estimators': 200}\n",
      "0.4907716429914262\n"
     ]
    }
   ],
   "source": [
    "# Best parameters after first run\n",
    "# {'bootstrap': True, 'max_depth': 10, 'max_features': 'sqrt', 'min_samples_leaf': 2, 'min_samples_split': 2, 'n_estimators': 200}\n",
    "params = {'n_estimators': [100, 200], \n",
    "          'max_depth': [5, 10], \n",
    "          'min_samples_split': [2, 5], \n",
    "          'min_samples_leaf': [1, 2], \n",
    "          'max_features': ['sqrt', 'log2'],\n",
    "          'bootstrap': [True, False]}\n",
    "\n",
    "model = GridSearchCV(estimator = RandomForestClassifier(), \n",
    "                     param_grid = params,\n",
    "                     cv = 5, \n",
    "                     verbose = True,\n",
    "                     scoring=qwk_scorer)\n",
    "                     \n",
    "model.fit(X_train, y_train)\n",
    "best_model = model.best_estimator_\n",
    "print(model.best_params_)\n",
    "print(model.best_score_)\n",
    "\n",
    "y_tr_pred = best_model.predict(X_train)\n",
    "y_te_pred = best_model.predict(X_test)"
   ]
  },
  {
   "cell_type": "code",
   "execution_count": 29,
   "metadata": {},
   "outputs": [
    {
     "name": "stdout",
     "output_type": "stream",
     "text": [
      "RandomForestClassifier Accuracy - Train: 0.91, Test: 0.58\n",
      "RandomForestClassifier QWK - Train: 0.86, Test: 0.47\n"
     ]
    }
   ],
   "source": [
    "train_acc = accuracy_score(y_train, y_tr_pred)\n",
    "test_acc = accuracy_score(y_test, y_te_pred)\n",
    "print(f'RandomForestClassifier Accuracy - Train: {train_acc:#.2f}, Test: {test_acc:#.2f}')\n",
    "\n",
    "train_qwk = cohen_kappa_score(y_train, y_tr_pred, weights='quadratic')\n",
    "test_qwk = cohen_kappa_score(y_test, y_te_pred, weights='quadratic')\n",
    "print(f'RandomForestClassifier QWK - Train: {train_qwk:#.2f}, Test: {test_qwk:#.2f}')"
   ]
  },
  {
   "attachments": {},
   "cell_type": "markdown",
   "metadata": {},
   "source": [
    "## Model 4: XGBoost"
   ]
  },
  {
   "cell_type": "code",
   "execution_count": 30,
   "metadata": {},
   "outputs": [
    {
     "name": "stdout",
     "output_type": "stream",
     "text": [
      "Fitting 5 folds for each of 128 candidates, totalling 640 fits\n",
      "{'colsample_bytree': 0.8, 'learning_rate': 0.1, 'max_depth': 5, 'n_estimators': 100, 'reg_alpha': 0, 'reg_lambda': 0, 'subsample': 0.8}\n"
     ]
    }
   ],
   "source": [
    "# Best parameters at first run\n",
    "# {'colsample_bytree': 0.8, 'learning_rate': 0.1, 'max_depth': 5, 'n_estimators': 100, 'reg_alpha': 0, 'reg_lambda': 0, 'subsample': 0.8}\n",
    "params = {'n_estimators': [100, 200], \n",
    "          'max_depth': [5, 10], \n",
    "          'learning_rate': [0.1, 0.01],\n",
    "          'subsample': [0.8, 0.9],\n",
    "          'colsample_bytree': [0.8, 0.9],\n",
    "          'reg_alpha': [0, 0.1],\n",
    "          'reg_lambda': [0, 0.1]}\n",
    "\n",
    "model = GridSearchCV(estimator=xgb.XGBClassifier(objective='multi:softmax'), \n",
    "                     param_grid=params, \n",
    "                     cv=5, \n",
    "                     scoring=qwk_scorer, \n",
    "                     verbose=True)\n",
    "\n",
    "model.fit(X_train, y_train)\n",
    "best_model = model.best_estimator_\n",
    "print(model.best_params_)\n",
    "\n",
    "y_tr_pred = best_model.predict(X_train)\n",
    "y_te_pred = best_model.predict(X_test)"
   ]
  },
  {
   "cell_type": "code",
   "execution_count": 31,
   "metadata": {},
   "outputs": [
    {
     "name": "stdout",
     "output_type": "stream",
     "text": [
      "XGBClassifier Accuracy - Train: 1.00, Test: 0.57\n",
      "XGBClassifier QWK - Train: 1.00, Test: 0.47\n"
     ]
    }
   ],
   "source": [
    "train_acc = accuracy_score(y_train, y_tr_pred)\n",
    "test_acc = accuracy_score(y_test, y_te_pred)\n",
    "print(f'XGBClassifier Accuracy - Train: {train_acc:#.2f}, Test: {test_acc:#.2f}')\n",
    "\n",
    "train_qwk = cohen_kappa_score(y_train, y_tr_pred, weights='quadratic')\n",
    "test_qwk = cohen_kappa_score(y_test, y_te_pred, weights='quadratic')\n",
    "print(f'XGBClassifier QWK - Train: {train_qwk:#.2f}, Test: {test_qwk:#.2f}')"
   ]
  },
  {
   "attachments": {},
   "cell_type": "markdown",
   "metadata": {},
   "source": [
    "## Model 5: XGBoost with Stratified KFold CV"
   ]
  },
  {
   "cell_type": "code",
   "execution_count": 27,
   "metadata": {},
   "outputs": [
    {
     "name": "stdout",
     "output_type": "stream",
     "text": [
      "Fitting 5 folds for each of 1 candidates, totalling 5 fits\n",
      "{'colsample_bytree': 0.8, 'learning_rate': 0.1, 'max_depth': 5, 'n_estimators': 100, 'reg_alpha': 0, 'reg_lambda': 0, 'subsample': 0.8}\n"
     ]
    }
   ],
   "source": [
    "# Best parameters after first run\n",
    "# {'colsample_bytree': 0.8, 'learning_rate': 0.1, 'max_depth': 5, 'n_estimators': 100, 'reg_alpha': 0, 'reg_lambda': 0, 'subsample': 0.8}\n",
    "params = {'n_estimators': [100, 200], \n",
    "          'max_depth': [5, 10], \n",
    "          'learning_rate': [0.1, 0.01],\n",
    "          'subsample': [0.8, 0.9],\n",
    "          'colsample_bytree': [0.8, 0.9],\n",
    "          'reg_alpha': [0, 0.1],\n",
    "          'reg_lambda': [0, 0.1]}\n",
    "\n",
    "model = xgb.XGBClassifier(objective='multi:softmax')\n",
    "\n",
    "skf = StratifiedKFold(n_splits=5, random_state=2019, shuffle=True)\n",
    "grid_search = GridSearchCV(estimator=model, \n",
    "                           param_grid=params, \n",
    "                           cv=skf, \n",
    "                           scoring=qwk_scorer, \n",
    "                           verbose=True)\n",
    "\n",
    "grid_search.fit(X_train, y_train)\n",
    "best_model = grid_search.best_estimator_\n",
    "print(grid_search.best_params_)\n",
    "\n",
    "y_tr_pred = best_model.predict(X_train)\n",
    "y_te_pred = best_model.predict(X_test)"
   ]
  },
  {
   "cell_type": "code",
   "execution_count": 28,
   "metadata": {},
   "outputs": [
    {
     "name": "stdout",
     "output_type": "stream",
     "text": [
      "XGBClassifier Accuracy - Train: 1.00, Test: 0.57\n",
      "XGBClassifier QWK - Train: 1.00, Test: 0.47\n"
     ]
    }
   ],
   "source": [
    "train_acc = accuracy_score(y_train, y_tr_pred)\n",
    "test_acc = accuracy_score(y_test, y_te_pred)\n",
    "print(f'XGBClassifier Accuracy - Train: {train_acc:#.2f}, Test: {test_acc:#.2f}')\n",
    "\n",
    "train_qwk = cohen_kappa_score(y_train, y_tr_pred, weights='quadratic')\n",
    "test_qwk = cohen_kappa_score(y_test, y_te_pred, weights='quadratic')\n",
    "print(f'XGBClassifier QWK - Train: {train_qwk:#.2f}, Test: {test_qwk:#.2f}')"
   ]
  },
  {
   "cell_type": "code",
   "execution_count": 60,
   "metadata": {},
   "outputs": [
    {
     "data": {
      "text/plain": [
       "6    621\n",
       "5    592\n",
       "7    155\n",
       "8      2\n",
       "4      2\n",
       "Name: predictions, dtype: int64"
      ]
     },
     "execution_count": 60,
     "metadata": {},
     "output_type": "execute_result"
    }
   ],
   "source": [
    "test_df['predictions'] = best_model.predict(test_df)\n",
    "test_df['predictions'] = label_encoder.inverse_transform(test_df['predictions'])\n",
    "test_df['predictions'].value_counts(dropna = False)"
   ]
  },
  {
   "cell_type": "code",
   "execution_count": 61,
   "metadata": {},
   "outputs": [
    {
     "data": {
      "text/plain": [
       "dtype('int64')"
      ]
     },
     "execution_count": 61,
     "metadata": {},
     "output_type": "execute_result"
    }
   ],
   "source": [
    "test_df['predictions'].dtypes"
   ]
  },
  {
   "cell_type": "code",
   "execution_count": 62,
   "metadata": {},
   "outputs": [
    {
     "data": {
      "text/html": [
       "<div>\n",
       "<style scoped>\n",
       "    .dataframe tbody tr th:only-of-type {\n",
       "        vertical-align: middle;\n",
       "    }\n",
       "\n",
       "    .dataframe tbody tr th {\n",
       "        vertical-align: top;\n",
       "    }\n",
       "\n",
       "    .dataframe thead th {\n",
       "        text-align: right;\n",
       "    }\n",
       "</style>\n",
       "<table border=\"1\" class=\"dataframe\">\n",
       "  <thead>\n",
       "    <tr style=\"text-align: right;\">\n",
       "      <th></th>\n",
       "      <th>Id</th>\n",
       "      <th>quality</th>\n",
       "    </tr>\n",
       "  </thead>\n",
       "  <tbody>\n",
       "    <tr>\n",
       "      <th>0</th>\n",
       "      <td>2056</td>\n",
       "      <td>6</td>\n",
       "    </tr>\n",
       "    <tr>\n",
       "      <th>1</th>\n",
       "      <td>2057</td>\n",
       "      <td>7</td>\n",
       "    </tr>\n",
       "    <tr>\n",
       "      <th>2</th>\n",
       "      <td>2058</td>\n",
       "      <td>6</td>\n",
       "    </tr>\n",
       "    <tr>\n",
       "      <th>3</th>\n",
       "      <td>2059</td>\n",
       "      <td>6</td>\n",
       "    </tr>\n",
       "    <tr>\n",
       "      <th>4</th>\n",
       "      <td>2060</td>\n",
       "      <td>6</td>\n",
       "    </tr>\n",
       "    <tr>\n",
       "      <th>...</th>\n",
       "      <td>...</td>\n",
       "      <td>...</td>\n",
       "    </tr>\n",
       "    <tr>\n",
       "      <th>1367</th>\n",
       "      <td>3423</td>\n",
       "      <td>5</td>\n",
       "    </tr>\n",
       "    <tr>\n",
       "      <th>1368</th>\n",
       "      <td>3424</td>\n",
       "      <td>6</td>\n",
       "    </tr>\n",
       "    <tr>\n",
       "      <th>1369</th>\n",
       "      <td>3425</td>\n",
       "      <td>5</td>\n",
       "    </tr>\n",
       "    <tr>\n",
       "      <th>1370</th>\n",
       "      <td>3426</td>\n",
       "      <td>5</td>\n",
       "    </tr>\n",
       "    <tr>\n",
       "      <th>1371</th>\n",
       "      <td>3427</td>\n",
       "      <td>5</td>\n",
       "    </tr>\n",
       "  </tbody>\n",
       "</table>\n",
       "<p>1372 rows × 2 columns</p>\n",
       "</div>"
      ],
      "text/plain": [
       "        Id  quality\n",
       "0     2056        6\n",
       "1     2057        7\n",
       "2     2058        6\n",
       "3     2059        6\n",
       "4     2060        6\n",
       "...    ...      ...\n",
       "1367  3423        5\n",
       "1368  3424        6\n",
       "1369  3425        5\n",
       "1370  3426        5\n",
       "1371  3427        5\n",
       "\n",
       "[1372 rows x 2 columns]"
      ]
     },
     "execution_count": 62,
     "metadata": {},
     "output_type": "execute_result"
    }
   ],
   "source": [
    "df = pd.read_csv('../../data/test.csv')\n",
    "df.drop([col for col in df.columns if col != 'Id'], axis = 1, inplace = True)\n",
    "df['quality'] = test_df['predictions'].astype(int)"
   ]
  },
  {
   "cell_type": "code",
   "execution_count": 63,
   "metadata": {},
   "outputs": [],
   "source": [
    "df.to_csv('../../data/submission_file.csv', index=False)"
   ]
  },
  {
   "cell_type": "code",
   "execution_count": 64,
   "metadata": {},
   "outputs": [
    {
     "data": {
      "text/plain": [
       "(1372, 2)"
      ]
     },
     "execution_count": 64,
     "metadata": {},
     "output_type": "execute_result"
    }
   ],
   "source": [
    "df.shape"
   ]
  }
 ],
 "metadata": {
  "kernelspec": {
   "display_name": "Python 3",
   "language": "python",
   "name": "python3"
  },
  "language_info": {
   "codemirror_mode": {
    "name": "ipython",
    "version": 3
   },
   "file_extension": ".py",
   "mimetype": "text/x-python",
   "name": "python",
   "nbconvert_exporter": "python",
   "pygments_lexer": "ipython3",
   "version": "3.10.5"
  },
  "orig_nbformat": 4
 },
 "nbformat": 4,
 "nbformat_minor": 2
}
